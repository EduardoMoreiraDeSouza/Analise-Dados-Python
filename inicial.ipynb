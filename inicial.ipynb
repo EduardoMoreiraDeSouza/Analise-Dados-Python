{
 "cells": [
  {
   "cell_type": "markdown",
   "source": [
    "# Python Insights - Analisando Dados com Python\n",
    "\n",
    "### Case - Cancelamento de Clientes\n",
    "\n",
    "Você foi contratado por uma empresa com mais de 800 mil clientes para um projeto de Dados. Recentemente a empresa percebeu que da sua base total de clientes, a maioria são clientes inativos, ou seja, que já cancelaram o serviço.\n",
    "\n",
    "Precisando melhorar seus resultados ela quer conseguir entender os principais motivos desses cancelamentos e quais as ações mais eficientes para reduzir esse número.\n",
    "\n",
    "Base de dados e arquivos: https://drive.google.com/drive/folders/1uDesZePdkhiraJmiyeZ-w5tfc8XsNYFZ?usp=drive_link"
   ],
   "metadata": {
    "collapsed": false
   }
  },
  {
   "cell_type": "code",
   "execution_count": null,
   "metadata": {},
   "outputs": [],
   "source": [
    "# Passo a passo do projeto\n",
    "# Passo 1: Importar a base de dados dos clientes.\n",
    "# Passo 2: Visualizar a base de dados.\n",
    "# Passo 3: Corrigir os problemas da base de dados.\n",
    "# Passo 4: Análise dos cancelamentos.\n",
    "# Passo 5: Análise da causa do cancelamento.\n",
    "\n",
    "# Para trabalhar com base de dados --> pandas\n",
    "# Para usar gráficos e dashboards --> ploty\n",
    "\n",
    "#!pip install pandas numpy openpyxl nbformat ipykernel plotly"
   ]
  },
  {
   "cell_type": "code",
   "outputs": [],
   "source": [
    "# Passo 1: Importar a base de dados dos clientes.\n",
    "\n",
    "import pandas as pd\n",
    "\n",
    "tabela = pd.read_csv(\"./cancelamentos.csv\")\n",
    "\n",
    "# Passo 2: Visualizar a base de dados.\n",
    "    # display(tabela) // Mais bonito == print(tabela)\n",
    "\n",
    "display(tabela)\n"
   ],
   "metadata": {
    "collapsed": false
   },
   "execution_count": null
  },
  {
   "cell_type": "code",
   "outputs": [],
   "source": [
    "# Passo 3: Corrigir os problemas da base de dados.\n",
    "\n",
    "# Identificar colunas inúteis.\n",
    "# Tratar valores vazios\n",
    "\n",
    "    # tabela = tabela.drop(columns=\"CustomerID\")\n",
    "    # display(tabela.info())\n",
    "\n",
    "tabela = tabela.dropna()\n",
    "\n",
    "display(tabela)\n"
   ],
   "metadata": {
    "collapsed": false
   },
   "execution_count": null
  },
  {
   "cell_type": "code",
   "outputs": [],
   "source": [
    "# Passo 4: Análise dos cancelamentos.\n",
    "\n",
    "# display(tabela[\"cancelou\"].value_counts(normalize=True).map(\"{:.1%}\".format))\n",
    "display(tabela[\"cancelou\"].value_counts(normalize=True))\n"
   ],
   "metadata": {
    "collapsed": false
   },
   "execution_count": null
  },
  {
   "cell_type": "code",
   "outputs": [],
   "source": [
    "# Passo 5: Análise da causa do cancelamento.\n",
    "\n",
    "\n"
   ],
   "metadata": {
    "collapsed": false
   }
  }
 ],
 "metadata": {
  "kernelspec": {
   "display_name": "base",
   "language": "python",
   "name": "python3"
  },
  "language_info": {
   "codemirror_mode": {
    "name": "ipython",
    "version": 3
   },
   "file_extension": ".py",
   "mimetype": "text/x-python",
   "name": "python",
   "nbconvert_exporter": "python",
   "pygments_lexer": "ipython3",
   "version": "3.10.9"
  },
  "orig_nbformat": 4
 },
 "nbformat": 4,
 "nbformat_minor": 2
}
